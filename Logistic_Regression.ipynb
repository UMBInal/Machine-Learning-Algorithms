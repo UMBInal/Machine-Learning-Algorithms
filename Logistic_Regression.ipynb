{
  "nbformat": 4,
  "nbformat_minor": 0,
  "metadata": {
    "colab": {
      "provenance": []
    },
    "kernelspec": {
      "name": "python3",
      "display_name": "Python 3"
    },
    "language_info": {
      "name": "python"
    }
  },
  "cells": [
    {
      "cell_type": "markdown",
      "source": [
        "# Logistic Regression\n",
        "## Approximation\n",
        "Recall that for linear regression, the function has the form:\n",
        "* $f(w,b) = wx + b$ - this will output continuous values of a linear function\n",
        "\n",
        "In logistic regression, we want a **probability distribution** instead of continuous values, which is why we apply a **sigmoid function** to our linear function to model the probability:\n",
        "\n",
        "* $\\hat{y} = h_{\\theta}(x) = \\frac{1}{1+e^{-wx+b}}$ - this will output a collection of probabilities\n",
        "\n",
        "## Sigmoid function\n",
        "Recall that the sigmoid function is:\n",
        "\n",
        "$ s(x) = \\frac{1}{1+e^{-x}}$"
      ],
      "metadata": {
        "id": "-sj3bJ0Ga_Ls"
      }
    },
    {
      "cell_type": "code",
      "source": [
        "import numpy as np\n",
        "import matplotlib.pyplot as plt\n",
        "\n",
        "\n",
        "def sigmoid(x):\n",
        "  e = np.exp(1)\n",
        "  return 1/(1 + e**(-x))\n",
        "\n",
        "\n",
        "values = np.arange(-10,10, 0.01)\n",
        "\n",
        "outputs = [sigmoid(x) for x in values]\n",
        "\n",
        "# print(values, outputs)\n",
        "\n",
        "\n",
        "plt.figure()\n",
        "plt.plot(values, outputs)\n",
        "plt.title('Sigmoid function: f(x) = 1/(1+e^-x)')\n",
        "plt.show()"
      ],
      "metadata": {
        "colab": {
          "base_uri": "https://localhost:8080/",
          "height": 452
        },
        "id": "FMq4qHWYcbaj",
        "outputId": "bf257d7e-3001-4ac2-90fa-409099f8c1c5"
      },
      "execution_count": 10,
      "outputs": [
        {
          "output_type": "display_data",
          "data": {
            "text/plain": [
              "<Figure size 640x480 with 1 Axes>"
            ],
            "image/png": "[encoded data removed]"
          },
          "metadata": {}
        }
      ]
    },
    {
      "cell_type": "markdown",
      "source": [
        "# Probability Distribution\n",
        "The sigmoid function outputs a probability between 0 and 1 for an individual input. Note that the range of the sigmoid function is between 0 and 1.\n",
        "With this function, we can model a probability of our data, and with the approximated output, we must come up with the parameters $w,b$, which is done via **gradient descent** and a **cost function**, known as the **categorical cross entropy function**\n",
        "\n",
        "# Cost Function: **Categorical Cross Entropy**\n",
        "\n",
        "$J(w,b) = J(\\theta) = \\frac{1}{n} \\sum_{i=1}^{n} \\left(y^i log(h_{\\theta}(x^i)) +(1-y^i)log(1-h_{\\theta}(x^i)) \\right) $\n",
        "\n",
        "We optimize the cost function w.r.t our model parameters $\\theta_i$ using gradient descent:\n",
        "\n",
        "$\\theta_i = \\theta_{i-1} - \\alpha \\frac{\\partial J}{\\partial \\theta}$\n",
        "\n",
        "or in our case:\n",
        "\n",
        "$w = w - \\alpha \\cdot dw$\n",
        "\n",
        "$b = b - \\alpha \\cdot db$\n",
        "\n",
        "that is\n",
        "\n",
        "$J'(\\theta) = \\begin{pmatrix} \\frac{dJ}{dw} \\\\ \\frac{dJ}{db} \\end{pmatrix} = $\n",
        "$ = \\begin{pmatrix} \\frac{1}{n} \\sum_{i=1}^{n} 2x_i(\\hat{y} - y_i) \\\\  \\frac{1}{n} \\sum_{i=1}^{n} 2(\\hat{y} - y_i) \\end{pmatrix} $\n",
        "\n",
        "Note that these are the same as in linear regression."
      ],
      "metadata": {
        "id": "C6aaR3DSel4H"
      }
    },
    {
      "cell_type": "code",
      "source": [
        "import numpy as np\n",
        "\n",
        "\n",
        "class LogisticRegression:\n",
        "  def __init__(self, lr: float=0.01, n_iters: int = 100):\n",
        "    self.lr = lr\n",
        "    self.n_iters = n_iters\n",
        "    # creating weight attributes:\n",
        "    self.weights = None\n",
        "    self.bias = None\n",
        "\n",
        "  # following sklearn conventions:\n",
        "\n",
        "  # takes training samples and their labels:\n",
        "  # X is an mxn matrix of m samples of n features\n",
        "  # y is a mx1 vector of labels corresponding to each training sample\n",
        "  def fit(self, X, y):\n",
        "    # training step and gradient descent\n",
        "\n",
        "    # initialize parameters:\n",
        "    n_samples, n_features = X.shape\n",
        "\n",
        "    # now that we have the required shape, we init the parameters at 0:\n",
        "    self.weights = np.zeros(n_features)\n",
        "    self.bias = 0\n",
        "\n",
        "    # gradient descent\n",
        "\n",
        "    for _ in range(self.n_iters):\n",
        "      # approximate our data with a linear model\n",
        "      linear_model = np.dot(X,self.weights) + self.bias\n",
        "      # apply the sigmoid function to get a probability\n",
        "      y_pred = self._sigmoid(linear_model)\n",
        "\n",
        "      # derivatives\n",
        "      dw = (2/n_samples) * np.dot(X.T, (y_pred - y))\n",
        "      db = (2/n_samples) * np.sum(y_pred - y)\n",
        "\n",
        "      # update\n",
        "      self.weights -= self.lr * dw\n",
        "      self.bias -= self.lr * db\n",
        "\n",
        "\n",
        "  def predict(self, X):\n",
        "    # predict on new test samples:\n",
        "    # AGAIN:\n",
        "    # approximate our data with a linear model\n",
        "    linear_model = np.dot(X,self.weights) + self.bias\n",
        "    # apply the sigmoid function to get a probability\n",
        "    y_pred = self._sigmoid(linear_model)\n",
        "\n",
        "    # if y_pred >= 0.5, then y_pred = class 1, otherwise 0\n",
        "    y_pred_cls = [1 if i>= 0.5 else 0 for i in y_pred]\n",
        "\n",
        "    return y_pred_cls\n",
        "\n",
        "\n",
        "\n",
        "  # private helper sigmoid method:\n",
        "\n",
        "  def _sigmoid(self, x):\n",
        "    return 1/(1+np.exp(-x))\n"
      ],
      "metadata": {
        "id": "Q4nfl1nbdRw1"
      },
      "execution_count": 11,
      "outputs": []
    },
    {
      "cell_type": "code",
      "source": [
        "from sklearn.datasets import load_breast_cancer\n",
        "from sklearn.model_selection import train_test_split\n",
        "\n",
        "\n",
        "bc = load_breast_cancer()\n",
        "X, y = bc.data, bc.target\n",
        "\n",
        "X_train, X_test, y_train, y_test = train_test_split(X,y, test_size = 0.2, random_state = 1234)\n",
        "\n",
        "def accuracy(y_true, y_pred):\n",
        "  accuracy = np.sum(y_true == y_pred) / len(y_true)\n",
        "  return accuracy\n",
        "\n",
        "regressor = LogisticRegression(lr = 0.00001, n_iters = 10000)\n",
        "regressor.fit(X_train, y_train)\n",
        "y_pred = regressor.predict(X_test)\n",
        "\n",
        "print(f'Logistic Regression Classification Accuracy: {accuracy(y_test, y_pred)}')"
      ],
      "metadata": {
        "colab": {
          "base_uri": "https://localhost:8080/"
        },
        "id": "uk3_Y1hJm35n",
        "outputId": "ed6f9261-682d-4f94-fa66-fd1967a5caaf"
      },
      "execution_count": 12,
      "outputs": [
        {
          "output_type": "stream",
          "name": "stdout",
          "text": [
            "Logistic Regression Classification Accuracy: 0.9210526315789473\n"
          ]
        }
      ]
    }
  ]
}